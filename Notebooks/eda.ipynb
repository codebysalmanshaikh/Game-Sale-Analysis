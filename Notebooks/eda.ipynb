{
 "cells": [
  {
   "cell_type": "markdown",
   "id": "3195d6dd",
   "metadata": {},
   "source": [
    "# eda.ipynb — Exploratory Data Analysis (EDA)\n",
    "\n",
    "## 1. Introduction\n",
    "This notebook performs Exploratory Data Analysis (EDA) on the cleaned video game sales dataset.  \n",
    "The goal is to find insights like trends and KPIs that will guide dashboard creation in Power BI.\n"
   ]
  },
  {
   "cell_type": "code",
   "execution_count": null,
   "id": "b99a275d",
   "metadata": {},
   "outputs": [
    {
     "name": "stdout",
     "output_type": "stream",
     "text": [
      "   Game_Rank                      Name Platform    Year         Genre  \\\n",
      "0          1                Wii Sports      Wii  2006.0        Sports   \n",
      "1          2         Super Mario Bros.      NES  1985.0      Platform   \n",
      "2          3            Mario Kart Wii      Wii  2008.0        Racing   \n",
      "3          4         Wii Sports Resort      Wii  2009.0        Sports   \n",
      "4          5  Pokemon Red/Pokemon Blue       GB  1996.0  Role-Playing   \n",
      "\n",
      "  Publisher  NA_Sales  EU_Sales  JP_Sales  Other_Sales  Global_Sales  \n",
      "0  Nintendo     41.49     29.02      3.77         8.46         82.74  \n",
      "1  Nintendo     29.08      3.58      6.81         0.77         40.24  \n",
      "2  Nintendo     15.85     12.88      3.79         3.31         35.82  \n",
      "3  Nintendo     15.75     11.01      3.28         2.96         33.00  \n",
      "4  Nintendo     11.27      8.89     10.22         1.00         31.37  \n"
     ]
    }
   ],
   "source": [
    "import pandas as pd\n",
    "df = pd.read_excel(\"../Data/VideoGameSale.xlsx\", engine=\"openpyxl\")\n",
    "print(df.head())"
   ]
  },
  {
   "cell_type": "code",
   "execution_count": null,
   "id": "227c4a6e",
   "metadata": {},
   "outputs": [],
   "source": [
    "\n",
    "df.to_csv(\"../Data/vgsales_clean.csv\", index=False)\n",
    "\n"
   ]
  },
  {
   "cell_type": "code",
   "execution_count": 13,
   "id": "ac5ec88a",
   "metadata": {},
   "outputs": [],
   "source": [
    "df = pd.read_csv(\"../Data/vgsales_clean.csv\")\n"
   ]
  },
  {
   "cell_type": "markdown",
   "id": "c1492a98",
   "metadata": {},
   "source": [
    "## 2. Dataset Overview\n",
    "Checked the shape, columns, and key statistics of the dataset.\n"
   ]
  },
  {
   "cell_type": "code",
   "execution_count": 14,
   "id": "77c77abf",
   "metadata": {},
   "outputs": [
    {
     "name": "stdout",
     "output_type": "stream",
     "text": [
      "Shape: (16598, 11)\n",
      "Columns: ['Game_Rank', 'Name', 'Platform', 'Year', 'Genre', 'Publisher', 'NA_Sales', 'EU_Sales', 'JP_Sales', 'Other_Sales', 'Global_Sales']\n",
      "Years Range: 1980.0 - 2020.0\n",
      "Unique Games: 11493\n"
     ]
    },
    {
     "data": {
      "text/html": [
       "<div>\n",
       "<style scoped>\n",
       "    .dataframe tbody tr th:only-of-type {\n",
       "        vertical-align: middle;\n",
       "    }\n",
       "\n",
       "    .dataframe tbody tr th {\n",
       "        vertical-align: top;\n",
       "    }\n",
       "\n",
       "    .dataframe thead th {\n",
       "        text-align: right;\n",
       "    }\n",
       "</style>\n",
       "<table border=\"1\" class=\"dataframe\">\n",
       "  <thead>\n",
       "    <tr style=\"text-align: right;\">\n",
       "      <th></th>\n",
       "      <th>count</th>\n",
       "      <th>unique</th>\n",
       "      <th>top</th>\n",
       "      <th>freq</th>\n",
       "      <th>mean</th>\n",
       "      <th>std</th>\n",
       "      <th>min</th>\n",
       "      <th>25%</th>\n",
       "      <th>50%</th>\n",
       "      <th>75%</th>\n",
       "      <th>max</th>\n",
       "    </tr>\n",
       "  </thead>\n",
       "  <tbody>\n",
       "    <tr>\n",
       "      <th>Game_Rank</th>\n",
       "      <td>16598.0</td>\n",
       "      <td>NaN</td>\n",
       "      <td>NaN</td>\n",
       "      <td>NaN</td>\n",
       "      <td>8300.605254</td>\n",
       "      <td>4791.853933</td>\n",
       "      <td>1.0</td>\n",
       "      <td>4151.25</td>\n",
       "      <td>8300.5</td>\n",
       "      <td>12449.75</td>\n",
       "      <td>16600.0</td>\n",
       "    </tr>\n",
       "    <tr>\n",
       "      <th>Name</th>\n",
       "      <td>16598</td>\n",
       "      <td>11493</td>\n",
       "      <td>Need for Speed: Most Wanted</td>\n",
       "      <td>12</td>\n",
       "      <td>NaN</td>\n",
       "      <td>NaN</td>\n",
       "      <td>NaN</td>\n",
       "      <td>NaN</td>\n",
       "      <td>NaN</td>\n",
       "      <td>NaN</td>\n",
       "      <td>NaN</td>\n",
       "    </tr>\n",
       "    <tr>\n",
       "      <th>Platform</th>\n",
       "      <td>16598</td>\n",
       "      <td>31</td>\n",
       "      <td>DS</td>\n",
       "      <td>2163</td>\n",
       "      <td>NaN</td>\n",
       "      <td>NaN</td>\n",
       "      <td>NaN</td>\n",
       "      <td>NaN</td>\n",
       "      <td>NaN</td>\n",
       "      <td>NaN</td>\n",
       "      <td>NaN</td>\n",
       "    </tr>\n",
       "    <tr>\n",
       "      <th>Year</th>\n",
       "      <td>16327.0</td>\n",
       "      <td>NaN</td>\n",
       "      <td>NaN</td>\n",
       "      <td>NaN</td>\n",
       "      <td>2006.406443</td>\n",
       "      <td>5.828981</td>\n",
       "      <td>1980.0</td>\n",
       "      <td>2003.0</td>\n",
       "      <td>2007.0</td>\n",
       "      <td>2010.0</td>\n",
       "      <td>2020.0</td>\n",
       "    </tr>\n",
       "    <tr>\n",
       "      <th>Genre</th>\n",
       "      <td>16598</td>\n",
       "      <td>12</td>\n",
       "      <td>Action</td>\n",
       "      <td>3316</td>\n",
       "      <td>NaN</td>\n",
       "      <td>NaN</td>\n",
       "      <td>NaN</td>\n",
       "      <td>NaN</td>\n",
       "      <td>NaN</td>\n",
       "      <td>NaN</td>\n",
       "      <td>NaN</td>\n",
       "    </tr>\n",
       "    <tr>\n",
       "      <th>Publisher</th>\n",
       "      <td>16540</td>\n",
       "      <td>578</td>\n",
       "      <td>Electronic Arts</td>\n",
       "      <td>1351</td>\n",
       "      <td>NaN</td>\n",
       "      <td>NaN</td>\n",
       "      <td>NaN</td>\n",
       "      <td>NaN</td>\n",
       "      <td>NaN</td>\n",
       "      <td>NaN</td>\n",
       "      <td>NaN</td>\n",
       "    </tr>\n",
       "    <tr>\n",
       "      <th>NA_Sales</th>\n",
       "      <td>16598.0</td>\n",
       "      <td>NaN</td>\n",
       "      <td>NaN</td>\n",
       "      <td>NaN</td>\n",
       "      <td>0.264667</td>\n",
       "      <td>0.816683</td>\n",
       "      <td>0.0</td>\n",
       "      <td>0.0</td>\n",
       "      <td>0.08</td>\n",
       "      <td>0.24</td>\n",
       "      <td>41.49</td>\n",
       "    </tr>\n",
       "    <tr>\n",
       "      <th>EU_Sales</th>\n",
       "      <td>16598.0</td>\n",
       "      <td>NaN</td>\n",
       "      <td>NaN</td>\n",
       "      <td>NaN</td>\n",
       "      <td>0.146652</td>\n",
       "      <td>0.505351</td>\n",
       "      <td>0.0</td>\n",
       "      <td>0.0</td>\n",
       "      <td>0.02</td>\n",
       "      <td>0.11</td>\n",
       "      <td>29.02</td>\n",
       "    </tr>\n",
       "    <tr>\n",
       "      <th>JP_Sales</th>\n",
       "      <td>16598.0</td>\n",
       "      <td>NaN</td>\n",
       "      <td>NaN</td>\n",
       "      <td>NaN</td>\n",
       "      <td>0.077782</td>\n",
       "      <td>0.309291</td>\n",
       "      <td>0.0</td>\n",
       "      <td>0.0</td>\n",
       "      <td>0.0</td>\n",
       "      <td>0.04</td>\n",
       "      <td>10.22</td>\n",
       "    </tr>\n",
       "    <tr>\n",
       "      <th>Other_Sales</th>\n",
       "      <td>16598.0</td>\n",
       "      <td>NaN</td>\n",
       "      <td>NaN</td>\n",
       "      <td>NaN</td>\n",
       "      <td>0.048063</td>\n",
       "      <td>0.188588</td>\n",
       "      <td>0.0</td>\n",
       "      <td>0.0</td>\n",
       "      <td>0.01</td>\n",
       "      <td>0.04</td>\n",
       "      <td>10.57</td>\n",
       "    </tr>\n",
       "    <tr>\n",
       "      <th>Global_Sales</th>\n",
       "      <td>16598.0</td>\n",
       "      <td>NaN</td>\n",
       "      <td>NaN</td>\n",
       "      <td>NaN</td>\n",
       "      <td>0.537441</td>\n",
       "      <td>1.555028</td>\n",
       "      <td>0.01</td>\n",
       "      <td>0.06</td>\n",
       "      <td>0.17</td>\n",
       "      <td>0.47</td>\n",
       "      <td>82.74</td>\n",
       "    </tr>\n",
       "  </tbody>\n",
       "</table>\n",
       "</div>"
      ],
      "text/plain": [
       "                count unique                          top  freq         mean  \\\n",
       "Game_Rank     16598.0    NaN                          NaN   NaN  8300.605254   \n",
       "Name            16598  11493  Need for Speed: Most Wanted    12          NaN   \n",
       "Platform        16598     31                           DS  2163          NaN   \n",
       "Year          16327.0    NaN                          NaN   NaN  2006.406443   \n",
       "Genre           16598     12                       Action  3316          NaN   \n",
       "Publisher       16540    578              Electronic Arts  1351          NaN   \n",
       "NA_Sales      16598.0    NaN                          NaN   NaN     0.264667   \n",
       "EU_Sales      16598.0    NaN                          NaN   NaN     0.146652   \n",
       "JP_Sales      16598.0    NaN                          NaN   NaN     0.077782   \n",
       "Other_Sales   16598.0    NaN                          NaN   NaN     0.048063   \n",
       "Global_Sales  16598.0    NaN                          NaN   NaN     0.537441   \n",
       "\n",
       "                      std     min      25%     50%       75%      max  \n",
       "Game_Rank     4791.853933     1.0  4151.25  8300.5  12449.75  16600.0  \n",
       "Name                  NaN     NaN      NaN     NaN       NaN      NaN  \n",
       "Platform              NaN     NaN      NaN     NaN       NaN      NaN  \n",
       "Year             5.828981  1980.0   2003.0  2007.0    2010.0   2020.0  \n",
       "Genre                 NaN     NaN      NaN     NaN       NaN      NaN  \n",
       "Publisher             NaN     NaN      NaN     NaN       NaN      NaN  \n",
       "NA_Sales         0.816683     0.0      0.0    0.08      0.24    41.49  \n",
       "EU_Sales         0.505351     0.0      0.0    0.02      0.11    29.02  \n",
       "JP_Sales         0.309291     0.0      0.0     0.0      0.04    10.22  \n",
       "Other_Sales      0.188588     0.0      0.0    0.01      0.04    10.57  \n",
       "Global_Sales     1.555028    0.01     0.06    0.17      0.47    82.74  "
      ]
     },
     "execution_count": 14,
     "metadata": {},
     "output_type": "execute_result"
    }
   ],
   "source": [
    "print(\"Shape:\", df.shape)\n",
    "print(\"Columns:\", df.columns.tolist())\n",
    "print(\"Years Range:\", df['Year'].min(), \"-\", df['Year'].max())\n",
    "print(\"Unique Games:\", df['Name'].nunique())\n",
    "df.describe(include='all').T.head(15)\n"
   ]
  },
  {
   "cell_type": "markdown",
   "id": "ef11de1c",
   "metadata": {},
   "source": [
    "## 3. Key Performance Indicators (KPIs)\n",
    "Summarized the dataset.\n"
   ]
  },
  {
   "cell_type": "code",
   "execution_count": 15,
   "id": "d2673eb0",
   "metadata": {},
   "outputs": [
    {
     "name": "stdout",
     "output_type": "stream",
     "text": [
      "Total Global Sales (M): 8920.44\n",
      "Average Sales per Game (M): 0.54\n",
      "Top Platform: PS2\n",
      "Top Genre: Action\n"
     ]
    }
   ],
   "source": [
    "total_sales = df['Global_Sales'].sum()\n",
    "avg_sales = df['Global_Sales'].mean()\n",
    "top_platform = df.groupby('Platform')['Global_Sales'].sum().idxmax()\n",
    "top_genre = df.groupby('Genre')['Global_Sales'].sum().idxmax()\n",
    "\n",
    "print(\"Total Global Sales (M):\", round(total_sales,2))\n",
    "print(\"Average Sales per Game (M):\", round(avg_sales,2))\n",
    "print(\"Top Platform:\", top_platform)\n",
    "print(\"Top Genre:\", top_genre)\n"
   ]
  },
  {
   "cell_type": "markdown",
   "id": "0d80a09d",
   "metadata": {},
   "source": [
    "## 4. Platform Analysis\n",
    "Checked which platforms have the highest total sales.\n"
   ]
  },
  {
   "cell_type": "code",
   "execution_count": 16,
   "id": "a69cf6da",
   "metadata": {},
   "outputs": [
    {
     "data": {
      "text/plain": [
       "Platform\n",
       "PS2     1255.64\n",
       "X360     979.96\n",
       "PS3      957.84\n",
       "Wii      926.71\n",
       "DS       822.49\n",
       "PS       730.66\n",
       "GBA      318.50\n",
       "PSP      296.28\n",
       "PS4      278.10\n",
       "PC       258.82\n",
       "Name: Global_Sales, dtype: float64"
      ]
     },
     "execution_count": 16,
     "metadata": {},
     "output_type": "execute_result"
    }
   ],
   "source": [
    "platform_sales = df.groupby('Platform')['Global_Sales'].sum().sort_values(ascending=False).head(10)\n",
    "platform_sales\n"
   ]
  },
  {
   "cell_type": "markdown",
   "id": "eff44d47",
   "metadata": {},
   "source": [
    "## 5. Genre Analysis\n",
    "Analyzed which genres dominate in terms of global sales.\n"
   ]
  },
  {
   "cell_type": "code",
   "execution_count": 17,
   "id": "a7782ffb",
   "metadata": {},
   "outputs": [
    {
     "data": {
      "text/plain": [
       "Genre\n",
       "Action          1751.18\n",
       "Sports          1330.93\n",
       "Shooter         1037.37\n",
       "Role-Playing     927.37\n",
       "Platform         831.37\n",
       "Misc             809.96\n",
       "Racing           732.04\n",
       "Fighting         448.91\n",
       "Simulation       392.20\n",
       "Puzzle           244.95\n",
       "Adventure        239.04\n",
       "Strategy         175.12\n",
       "Name: Global_Sales, dtype: float64"
      ]
     },
     "execution_count": 17,
     "metadata": {},
     "output_type": "execute_result"
    }
   ],
   "source": [
    "genre_sales = df.groupby('Genre')['Global_Sales'].sum().sort_values(ascending=False)\n",
    "genre_sales\n"
   ]
  },
  {
   "cell_type": "markdown",
   "id": "bb0db5b9",
   "metadata": {},
   "source": [
    "## 6. Yearly Sales Trend\n",
    "Looked at global sales performance across different years.\n"
   ]
  },
  {
   "cell_type": "code",
   "execution_count": 18,
   "id": "3343c417",
   "metadata": {},
   "outputs": [
    {
     "data": {
      "text/plain": [
       "Year\n",
       "1980.0     11.38\n",
       "1981.0     35.77\n",
       "1982.0     28.86\n",
       "1983.0     16.79\n",
       "1984.0     50.36\n",
       "1985.0     53.94\n",
       "1986.0     37.07\n",
       "1987.0     21.74\n",
       "1988.0     47.22\n",
       "1989.0     73.45\n",
       "1990.0     49.39\n",
       "1991.0     32.23\n",
       "1992.0     76.16\n",
       "1993.0     45.98\n",
       "1994.0     79.17\n",
       "1995.0     88.11\n",
       "1996.0    199.15\n",
       "1997.0    200.98\n",
       "1998.0    256.47\n",
       "1999.0    251.27\n",
       "2000.0    201.56\n",
       "2001.0    331.47\n",
       "2002.0    395.52\n",
       "2003.0    357.85\n",
       "2004.0    419.31\n",
       "2005.0    459.94\n",
       "2006.0    521.04\n",
       "2007.0    611.13\n",
       "2008.0    678.90\n",
       "2009.0    667.30\n",
       "2010.0    600.45\n",
       "2011.0    515.99\n",
       "2012.0    363.54\n",
       "2013.0    368.11\n",
       "2014.0    337.05\n",
       "2015.0    264.44\n",
       "2016.0     70.93\n",
       "2017.0      0.05\n",
       "2020.0      0.29\n",
       "Name: Global_Sales, dtype: float64"
      ]
     },
     "execution_count": 18,
     "metadata": {},
     "output_type": "execute_result"
    }
   ],
   "source": [
    "year_sales = df.groupby('Year')['Global_Sales'].sum()\n",
    "year_sales\n"
   ]
  },
  {
   "cell_type": "markdown",
   "id": "701650dc",
   "metadata": {},
   "source": [
    "## 7. Regional Preferences\n",
    "Explored how different regions (NA, EU, JP, Others) contribute to genre sales.\n"
   ]
  },
  {
   "cell_type": "code",
   "execution_count": 19,
   "id": "05f55a70",
   "metadata": {},
   "outputs": [
    {
     "data": {
      "text/html": [
       "<div>\n",
       "<style scoped>\n",
       "    .dataframe tbody tr th:only-of-type {\n",
       "        vertical-align: middle;\n",
       "    }\n",
       "\n",
       "    .dataframe tbody tr th {\n",
       "        vertical-align: top;\n",
       "    }\n",
       "\n",
       "    .dataframe thead th {\n",
       "        text-align: right;\n",
       "    }\n",
       "</style>\n",
       "<table border=\"1\" class=\"dataframe\">\n",
       "  <thead>\n",
       "    <tr style=\"text-align: right;\">\n",
       "      <th></th>\n",
       "      <th>EU_Sales</th>\n",
       "      <th>JP_Sales</th>\n",
       "      <th>NA_Sales</th>\n",
       "      <th>Other_Sales</th>\n",
       "    </tr>\n",
       "    <tr>\n",
       "      <th>Genre</th>\n",
       "      <th></th>\n",
       "      <th></th>\n",
       "      <th></th>\n",
       "      <th></th>\n",
       "    </tr>\n",
       "  </thead>\n",
       "  <tbody>\n",
       "    <tr>\n",
       "      <th>Action</th>\n",
       "      <td>525.00</td>\n",
       "      <td>159.95</td>\n",
       "      <td>877.83</td>\n",
       "      <td>187.38</td>\n",
       "    </tr>\n",
       "    <tr>\n",
       "      <th>Adventure</th>\n",
       "      <td>64.13</td>\n",
       "      <td>52.07</td>\n",
       "      <td>105.80</td>\n",
       "      <td>16.81</td>\n",
       "    </tr>\n",
       "    <tr>\n",
       "      <th>Fighting</th>\n",
       "      <td>101.32</td>\n",
       "      <td>87.35</td>\n",
       "      <td>223.59</td>\n",
       "      <td>36.68</td>\n",
       "    </tr>\n",
       "    <tr>\n",
       "      <th>Misc</th>\n",
       "      <td>215.98</td>\n",
       "      <td>107.76</td>\n",
       "      <td>410.24</td>\n",
       "      <td>75.32</td>\n",
       "    </tr>\n",
       "    <tr>\n",
       "      <th>Platform</th>\n",
       "      <td>201.63</td>\n",
       "      <td>130.77</td>\n",
       "      <td>447.05</td>\n",
       "      <td>51.59</td>\n",
       "    </tr>\n",
       "    <tr>\n",
       "      <th>Puzzle</th>\n",
       "      <td>50.78</td>\n",
       "      <td>57.31</td>\n",
       "      <td>123.78</td>\n",
       "      <td>12.55</td>\n",
       "    </tr>\n",
       "    <tr>\n",
       "      <th>Racing</th>\n",
       "      <td>238.39</td>\n",
       "      <td>56.69</td>\n",
       "      <td>359.42</td>\n",
       "      <td>77.27</td>\n",
       "    </tr>\n",
       "    <tr>\n",
       "      <th>Role-Playing</th>\n",
       "      <td>188.06</td>\n",
       "      <td>352.31</td>\n",
       "      <td>327.28</td>\n",
       "      <td>59.61</td>\n",
       "    </tr>\n",
       "    <tr>\n",
       "      <th>Shooter</th>\n",
       "      <td>313.27</td>\n",
       "      <td>38.28</td>\n",
       "      <td>582.60</td>\n",
       "      <td>102.69</td>\n",
       "    </tr>\n",
       "    <tr>\n",
       "      <th>Simulation</th>\n",
       "      <td>113.38</td>\n",
       "      <td>63.70</td>\n",
       "      <td>183.31</td>\n",
       "      <td>31.52</td>\n",
       "    </tr>\n",
       "    <tr>\n",
       "      <th>Sports</th>\n",
       "      <td>376.85</td>\n",
       "      <td>135.37</td>\n",
       "      <td>683.35</td>\n",
       "      <td>134.97</td>\n",
       "    </tr>\n",
       "    <tr>\n",
       "      <th>Strategy</th>\n",
       "      <td>45.34</td>\n",
       "      <td>49.46</td>\n",
       "      <td>68.70</td>\n",
       "      <td>11.36</td>\n",
       "    </tr>\n",
       "  </tbody>\n",
       "</table>\n",
       "</div>"
      ],
      "text/plain": [
       "              EU_Sales  JP_Sales  NA_Sales  Other_Sales\n",
       "Genre                                                  \n",
       "Action          525.00    159.95    877.83       187.38\n",
       "Adventure        64.13     52.07    105.80        16.81\n",
       "Fighting        101.32     87.35    223.59        36.68\n",
       "Misc            215.98    107.76    410.24        75.32\n",
       "Platform        201.63    130.77    447.05        51.59\n",
       "Puzzle           50.78     57.31    123.78        12.55\n",
       "Racing          238.39     56.69    359.42        77.27\n",
       "Role-Playing    188.06    352.31    327.28        59.61\n",
       "Shooter         313.27     38.28    582.60       102.69\n",
       "Simulation      113.38     63.70    183.31        31.52\n",
       "Sports          376.85    135.37    683.35       134.97\n",
       "Strategy         45.34     49.46     68.70        11.36"
      ]
     },
     "execution_count": 19,
     "metadata": {},
     "output_type": "execute_result"
    }
   ],
   "source": [
    "region_genre = df.pivot_table(index='Genre', values=['NA_Sales','EU_Sales','JP_Sales','Other_Sales'], aggfunc='sum')\n",
    "region_genre\n"
   ]
  },
  {
   "cell_type": "markdown",
   "id": "96030d0d",
   "metadata": {},
   "source": [
    "## 8. Correlation Check\n",
    "Checked whether sales in North America and Europe are correlated.\n"
   ]
  },
  {
   "cell_type": "code",
   "execution_count": 20,
   "id": "f2c0667f",
   "metadata": {},
   "outputs": [
    {
     "name": "stdout",
     "output_type": "stream",
     "text": [
      "Correlation between NA and EU Sales: 0.77\n"
     ]
    }
   ],
   "source": [
    "corr = df['NA_Sales'].corr(df['EU_Sales'])\n",
    "print(\"Correlation between NA and EU Sales:\", round(corr,2))\n"
   ]
  },
  {
   "cell_type": "markdown",
   "id": "8fd84023",
   "metadata": {},
   "source": [
    "## 9. Summary Stats\n",
    "Exporting summary metrics for reference and reporting.\n"
   ]
  },
  {
   "cell_type": "code",
   "execution_count": 21,
   "id": "b98318e4",
   "metadata": {},
   "outputs": [],
   "source": [
    "summary = {\n",
    "    \"Total Global Sales\": round(total_sales,2),\n",
    "    \"Average Sales per Game\": round(avg_sales,2),\n",
    "    \"Top Platform\": top_platform,\n",
    "    \"Top Genre\": top_genre\n",
    "}\n",
    "pd.DataFrame([summary]).to_csv(\"../data/eda_summary.csv\", index=False)\n"
   ]
  },
  {
   "cell_type": "markdown",
   "id": "200cd9cc",
   "metadata": {},
   "source": [
    "## 10. Conclusion\n",
    "- Pandas EDA shows that PS2 and Action dominate sales globally.  \n",
    "- Sales peaked between 2000–2010, showing clear historical trends.  \n",
    "- Regional analysis indicates that North America and Europe are strongly correlated, while Japan shows unique preferences.  "
   ]
  }
 ],
 "metadata": {
  "kernelspec": {
   "display_name": "Python 3",
   "language": "python",
   "name": "python3"
  },
  "language_info": {
   "codemirror_mode": {
    "name": "ipython",
    "version": 3
   },
   "file_extension": ".py",
   "mimetype": "text/x-python",
   "name": "python",
   "nbconvert_exporter": "python",
   "pygments_lexer": "ipython3",
   "version": "3.13.7"
  }
 },
 "nbformat": 4,
 "nbformat_minor": 5
}
